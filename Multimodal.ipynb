{
  "nbformat": 4,
  "nbformat_minor": 0,
  "metadata": {
    "colab": {
      "provenance": [],
      "include_colab_link": true
    },
    "kernelspec": {
      "name": "python3",
      "display_name": "Python 3"
    },
    "language_info": {
      "name": "python"
    }
  },
  "cells": [
    {
      "cell_type": "markdown",
      "metadata": {
        "id": "view-in-github",
        "colab_type": "text"
      },
      "source": [
        "<a href=\"https://colab.research.google.com/github/sauravdani/optimizing-time-and-cost-for-EVs-and-using-Multimodal-transport/blob/main/Multimodal.ipynb\" target=\"_parent\"><img src=\"https://colab.research.google.com/assets/colab-badge.svg\" alt=\"Open In Colab\"/></a>"
      ]
    },
    {
      "cell_type": "code",
      "source": [
        "! pip install google-search-results"
      ],
      "metadata": {
        "colab": {
          "base_uri": "https://localhost:8080/"
        },
        "id": "fV9O7Pt5QBG6",
        "outputId": "97a4c4cf-2da9-4637-94dc-b3572aa6a8ea"
      },
      "execution_count": null,
      "outputs": [
        {
          "output_type": "stream",
          "name": "stdout",
          "text": [
            "Collecting google-search-results\n",
            "  Downloading google_search_results-2.4.2.tar.gz (18 kB)\n",
            "  Preparing metadata (setup.py) ... \u001b[?25l\u001b[?25hdone\n",
            "Requirement already satisfied: requests in /usr/local/lib/python3.10/dist-packages (from google-search-results) (2.31.0)\n",
            "Requirement already satisfied: charset-normalizer<4,>=2 in /usr/local/lib/python3.10/dist-packages (from requests->google-search-results) (3.3.2)\n",
            "Requirement already satisfied: idna<4,>=2.5 in /usr/local/lib/python3.10/dist-packages (from requests->google-search-results) (3.7)\n",
            "Requirement already satisfied: urllib3<3,>=1.21.1 in /usr/local/lib/python3.10/dist-packages (from requests->google-search-results) (2.0.7)\n",
            "Requirement already satisfied: certifi>=2017.4.17 in /usr/local/lib/python3.10/dist-packages (from requests->google-search-results) (2024.7.4)\n",
            "Building wheels for collected packages: google-search-results\n",
            "  Building wheel for google-search-results (setup.py) ... \u001b[?25l\u001b[?25hdone\n",
            "  Created wheel for google-search-results: filename=google_search_results-2.4.2-py3-none-any.whl size=32010 sha256=928af9f85c27d94ae3231c99b4642109ca5ea62123f3a0f3036b019f8046bc4d\n",
            "  Stored in directory: /root/.cache/pip/wheels/d3/b2/c3/03302d12bb44a2cdff3c9371f31b72c0c4e84b8d2285eeac53\n",
            "Successfully built google-search-results\n",
            "Installing collected packages: google-search-results\n",
            "Successfully installed google-search-results-2.4.2\n"
          ]
        }
      ]
    },
    {
      "cell_type": "code",
      "execution_count": null,
      "metadata": {
        "id": "5LQr2easO7jF"
      },
      "outputs": [],
      "source": [
        "from serpapi import GoogleSearch\n",
        "\n",
        "params = {\n",
        "  \"engine\": \"google_maps\",\n",
        "  \"q\": \"pizza\",\n",
        "  \"ll\": \"@40.7455096,-74.0083012,15.1z\",\n",
        "  \"type\": \"search\",\n",
        "  \"api_key\": \"bc6d8a1c09a9cf011f1ba830c5a26c6289944148aeee03cac5ac4f36afa53897\"\n",
        "}\n",
        "\n",
        "search = GoogleSearch(params)\n",
        "results = search.get_dict()\n",
        "local_results = results[\"local_results\"]"
      ]
    },
    {
      "cell_type": "code",
      "source": [
        "from serpapi import GoogleSearch\n",
        "\n",
        "params = {\n",
        "  \"engine\": \"google\",\n",
        "  \"q\": \"Fresh Bagels\",\n",
        "  \"location\": \"Seattle-Tacoma, WA, Washington, United States\",\n",
        "  \"hl\": \"en\",\n",
        "  \"gl\": \"us\",\n",
        "  \"google_domain\": \"google.com\",\n",
        "  \"num\": \"10\",\n",
        "  \"start\": \"10\",\n",
        "  \"safe\": \"active\",\n",
        "  \"api_key\": \"bc6d8a1c09a9cf011f1ba830c5a26c6289944148aeee03cac5ac4f36afa53897\"\n",
        "}\n",
        "\n",
        "search = GoogleSearch(params)\n",
        "results = search.get_dict()\n",
        "organic_results = results[\"organic_results\"]"
      ],
      "metadata": {
        "id": "o4g3nlKlQXPg"
      },
      "execution_count": null,
      "outputs": []
    },
    {
      "cell_type": "code",
      "source": [
        "GoogleSearch.SERP_API_KEY = \"bc6d8a1c09a9cf011f1ba830c5a26c6289944148aeee03cac5ac4f36afa53897\""
      ],
      "metadata": {
        "id": "3WJd1eB4Q3Ks"
      },
      "execution_count": null,
      "outputs": []
    },
    {
      "cell_type": "code",
      "source": [
        "query = GoogleSearch({\"q\": \"coffee\", \"serp_api_key\": \"Your Private Key\"})"
      ],
      "metadata": {
        "id": "5iQoGyq3Q6t5"
      },
      "execution_count": null,
      "outputs": []
    },
    {
      "cell_type": "code",
      "source": [
        "from serpapi import GoogleSearch\n",
        "search = GoogleSearch({})\n",
        "location_list = search.get_location(\"Austin\", 3)\n",
        "print(location_list)"
      ],
      "metadata": {
        "colab": {
          "base_uri": "https://localhost:8080/"
        },
        "id": "rob5qPMRQ9Vu",
        "outputId": "9c812e4a-7454-4d3c-f72b-f1a320c10b1e"
      },
      "execution_count": null,
      "outputs": [
        {
          "output_type": "stream",
          "name": "stdout",
          "text": [
            "[{'id': '585069b8ee19ad271e9ba949', 'google_id': 1026201, 'google_parent_id': 21176, 'name': 'Austin', 'canonical_name': 'Austin,Texas,United States', 'country_code': 'US', 'target_type': 'City', 'reach': 6440000, 'gps': [-97.7430608, 30.267153], 'keys': ['austin', 'texas', 'united', 'states']}, {'id': '584f1826914a8159dc8f4189', 'google_id': 9060225, 'google_parent_id': 21176, 'name': 'Downtown Austin', 'canonical_name': 'Downtown Austin,Texas,United States', 'country_code': 'US', 'target_type': 'Neighborhood', 'gps': [-97.74438630000002, 30.2729209], 'reach': 1180000, 'keys': ['downtown', 'austin', 'texas', 'united', 'states']}, {'id': '66826b75914a81594d5e00ea', 'google_id': 9198961, 'google_parent_id': 21176, 'name': 'East Austin', 'canonical_name': 'East Austin,Texas,United States', 'country_code': 'US', 'target_type': 'Neighborhood', 'reach': 451000, 'gps': [-97.7090635, 30.2654547], 'keys': ['east', 'austin', 'texas', 'united', 'states']}]\n"
          ]
        }
      ]
    },
    {
      "cell_type": "code",
      "source": [
        "from gmplot import gmplot\n",
        "import webbrowser\n",
        "import os\n",
        "\n",
        "locations = [{'id': '585069b8ee19ad271e9ba949', 'google_id': 1026201, 'google_parent_id': 21176, 'name': 'Austin', 'canonical_name': 'Austin,Texas,United States', 'country_code': 'US', 'target_type': 'City', 'reach': 6440000, 'gps': [-97.7430608, 30.267153], 'keys': ['austin', 'texas', 'united', 'states']}, {'id': '584f1826914a8159dc8f4189', 'google_id': 9060225, 'google_parent_id': 21176, 'name': 'Downtown Austin', 'canonical_name': 'Downtown Austin,Texas,United States', 'country_code': 'US', 'target_type': 'Neighborhood', 'gps': [-97.74438630000002, 30.2729209], 'reach': 1180000, 'keys': ['downtown', 'austin', 'texas', 'united', 'states']}, {'id': '66826b75914a81594d5e00ea', 'google_id': 9198961, 'google_parent_id': 21176, 'name': 'East Austin', 'canonical_name': 'East Austin,Texas,United States', 'country_code': 'US', 'target_type': 'Neighborhood', 'reach': 451000, 'gps': [-97.7090635, 30.2654547], 'keys': ['east', 'austin', 'texas', 'united', 'states']}]"
      ],
      "metadata": {
        "id": "FQaZxn6LzDek"
      },
      "execution_count": null,
      "outputs": []
    }
  ]
}